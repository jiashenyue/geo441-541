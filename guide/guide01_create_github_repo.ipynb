{
  "nbformat": 4,
  "nbformat_minor": 0,
  "metadata": {
    "colab": {
      "provenance": [],
      "toc_visible": true,
      "authorship_tag": "ABX9TyNL/y6mIdBnOrYHgD1LIAGq",
      "include_colab_link": true
    },
    "kernelspec": {
      "name": "python3",
      "display_name": "Python 3"
    },
    "language_info": {
      "name": "python"
    }
  },
  "cells": [
    {
      "cell_type": "markdown",
      "metadata": {
        "id": "view-in-github",
        "colab_type": "text"
      },
      "source": [
        "<a href=\"https://colab.research.google.com/github/jiashenyue/geo441b/blob/main/wk01/guide01_create_github_repo.ipynb\" target=\"_parent\"><img src=\"https://colab.research.google.com/assets/colab-badge.svg\" alt=\"Open In Colab\"/></a>"
      ]
    },
    {
      "cell_type": "markdown",
      "source": [
        "## **How to Create a Public GitHub Repository**\n",
        "\n",
        "This tutorial will walk you through the process of creating a public GitHub repository. Follow the steps and refer to the images provided for a visual guide.\n",
        "\n"
      ],
      "metadata": {
        "id": "eGRdN-9tdszF"
      }
    },
    {
      "cell_type": "markdown",
      "source": [
        "### **Step 1: Sign In to GitHub**\n",
        "\n",
        "1. **Open GitHub:**\n",
        "   - Go to [GitHub](https://github.com/) in your web browser.\n",
        "   - If you don’t have a GitHub account, you’ll need to sign up first by clicking the **\"Sign up\"** button.\n",
        "\n",
        "   *Example Image Placeholder: GitHub Homepage*\n",
        "\n",
        "2. **Sign In:**\n",
        "   - Click on the **\"Sign in\"** button located at the top-right corner.\n",
        "   - Enter your username or email and password, then click **\"Sign in.\"**\n",
        "\n",
        "   *Example Image Placeholder: GitHub Sign In Page*\n"
      ],
      "metadata": {
        "id": "3KC71V8Zd0WW"
      }
    },
    {
      "cell_type": "markdown",
      "source": [
        "### **Step 2: Create a New Repository**\n",
        "\n",
        "1. **Access the New Repository Page:**\n",
        "   - Once signed in, click on the **\"+\"** icon at the top-right corner of the page.\n",
        "   - Select **\"New repository\"** from the dropdown menu.\n",
        "\n",
        "   *Example Image Placeholder: New Repository Dropdown*\n",
        "\n",
        "2. **Fill in Repository Details:**\n",
        "   - **Repository Name:** Enter a name for your repository. This name should be unique within your GitHub account.\n",
        "   - **Description:** Optionally, you can add a description of the repository.\n",
        "   - **Public/Private:** Select **\"Public\"** to make your repository visible to everyone.\n",
        "   - **Initialize with a README:** Check this box if you want to add a README file, which is a good practice for providing an overview of your repository.\n",
        "\n",
        "   *Example Image Placeholder: New Repository Form*\n",
        "\n",
        "3. **Create Repository:**\n",
        "   - Click the **\"Create repository\"** button to finalize the process.\n",
        "\n",
        "   *Example Image Placeholder: Create Repository Button*"
      ],
      "metadata": {
        "id": "Kurw1L3Id38H"
      }
    },
    {
      "cell_type": "markdown",
      "source": [
        "### **Step 3: Add Files to Your Repository**\n",
        "\n",
        "1. **Uploading Files:**\n",
        "   - Navigate to your newly created repository.\n",
        "   - Click the **\"Add file\"** button and select **\"Upload files.\"**\n",
        "\n",
        "   *Example Image Placeholder: Add File Button*\n",
        "\n",
        "2. **Drag and Drop Files:**\n",
        "   - You can drag and drop files from your computer into the upload area or click **\"Choose your files\"** to select files manually.\n",
        "\n",
        "   *Example Image Placeholder: Upload Files Area*\n",
        "\n",
        "3. **Commit Changes:**\n",
        "   - After adding your files, you can commit the changes by providing a commit message.\n",
        "   - Click **\"Commit changes\"** to upload the files to your repository.\n",
        "\n",
        "   *Example Image Placeholder: Commit Changes Button*"
      ],
      "metadata": {
        "id": "L3swc-Mnd8Lr"
      }
    },
    {
      "cell_type": "markdown",
      "source": [
        "### **Step 4: Manage Your Repository**\n",
        "\n",
        "1. **Viewing Files:**\n",
        "   - Your files are now part of the repository and can be viewed under the **\"Code\"** tab.\n",
        "\n",
        "   *Example Image Placeholder: Code Tab*\n",
        "\n",
        "2. **Sharing the Repository:**\n",
        "   - To share your repository with others, simply copy the URL from your browser’s address bar.\n",
        "   - The URL will look like this: `https://github.com/YourUsername/YourRepositoryName`\n",
        "\n",
        "   *Example Image Placeholder: Repository URL*"
      ],
      "metadata": {
        "id": "qTr1i7EKeBVg"
      }
    },
    {
      "cell_type": "markdown",
      "source": [
        "### **Step 5: Collaborating with Others**\n",
        "\n",
        "1. **Adding Collaborators:**\n",
        "   - Go to the **\"Settings\"** tab in your repository.\n",
        "   - Select **\"Collaborators and teams\"** from the left menu.\n",
        "   - Enter the username of the person you want to add and click **\"Add collaborator.\"**\n",
        "\n",
        "   *Example Image Placeholder: Add Collaborator*\n",
        "\n",
        "2. **Forking Repositories:**\n",
        "   - Others can fork your repository to make changes or contribute. Forking creates a copy of the repository in their GitHub account.\n",
        "\n",
        "   *Example Image Placeholder: Fork Button*"
      ],
      "metadata": {
        "id": "uv0ebzayeF5I"
      }
    }
  ]
}