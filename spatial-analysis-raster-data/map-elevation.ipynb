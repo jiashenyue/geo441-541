{
  "nbformat": 4,
  "nbformat_minor": 0,
  "metadata": {
    "colab": {
      "provenance": [],
      "toc_visible": true
    },
    "kernelspec": {
      "name": "python3",
      "display_name": "Python 3"
    },
    "language_info": {
      "name": "python"
    }
  },
  "cells": [
    {
      "cell_type": "markdown",
      "source": [
        "# **Mapping digital elevation and hydrology data**"
      ],
      "metadata": {
        "id": "C0ymCPR5aSHN"
      }
    },
    {
      "cell_type": "markdown",
      "source": [
        "🚀 Created by [Your Name]\n",
        "\n",
        "[mm/dd/yyyy]"
      ],
      "metadata": {
        "id": "Pt_OREXFPvkr"
      }
    },
    {
      "cell_type": "markdown",
      "source": [
        "## **Get ready to start**\n",
        "\n",
        "- Click **`File/Save a copy in Drive`** to save a copy of this notebook to my own Google Drive"
      ],
      "metadata": {
        "id": "CMQN_pgaHVLO"
      }
    },
    {
      "cell_type": "markdown",
      "source": [
        "## **Overview**\n",
        "\n",
        "This notebook contains the following two parts:\n",
        "\n",
        "- Create a map following the [assignment guide](https://miamioh.instructure.com/files/33254544/download?download_frd=1) for a digital elevation model of [Lower St. Croix watershed in Minnesoda](https://www.pca.state.mn.us/watershed-information/lower-st-croix-river) and hydrological data from National Hydrological Data (NHD)\n",
        "- Identify at least one raster dataset that can be used in your group project\n",
        "  - Revisit our [project topic pool](https://colab.research.google.com/drive/1aLwfdEKYufJ5s0H8CxbtKfEopYriQGIi?usp=drive_link) if necessary"
      ],
      "metadata": {
        "id": "6tKmlbnzny_I"
      }
    },
    {
      "cell_type": "markdown",
      "source": [
        "## **Map of elevation and hydrological information of the Lower St. Croix River Watershed, MN**\n"
      ],
      "metadata": {
        "id": "WVs4J1jQbESU"
      }
    },
    {
      "cell_type": "markdown",
      "source": [
        "- Use the checklist below to make sure our map contains all necessary map content and is formatted correctly\n",
        "\n",
        "  - [ ] Contains a title with byline (i.e., by [your name])\n",
        "  - [ ] Use a larger and bold font type for the title\n",
        "  - [ ] Contains one layer of **NHD Flowline** with three types of flows\n",
        "    - [ ] Artificial Path\n",
        "    - [ ] Canal Ditch\n",
        "    - [ ] Stream River\n",
        "  - [ ] Contains a layer of **NHD Water Body** with two types\n",
        "    - [ ] Lake Pond\n",
        "    - [ ] Reservoir\n",
        "  - [ ] Contains a of **Elevation**\n",
        "  - [ ] A **hillshade** layer is added to the map to enhance the visualization of elevation, but **not included** in the legend\n",
        "  - [ ] Uses the elevation color ramp to visualize the **Elevation** layer by elevation\n",
        "  - [ ] Contains a map scale\n",
        "  - [ ] Contains a legend\n",
        "  - [ ] Contains a north arrow\n",
        "  - [ ] Uses a balanced layout for all map elements\n",
        "    - [ ] Map stays in the center of layout\n",
        "    - [ ] Font size of title is appropriate (not too big or too small)\n",
        "    - [ ] Legend, map scale bar, and north arrow are placed appropriately to avoid an overlap with the map layers\n",
        "    - [ ] Legend, map scale bar, and north arrow has an appropriate size (big enough to read information, small enough to reserve most of space for map layers"
      ],
      "metadata": {
        "id": "bXB_pi-aPTOT"
      }
    },
    {
      "cell_type": "markdown",
      "source": [
        "```markdown\n",
        "[put a link from Google Drive folder for your PNG file of the map and remove this line]\n",
        "```\n",
        "\n",
        "- After finishing the two steps below, a link can be created to correctly rendered in Google Colab\n",
        "  - Deleted **`/view?usp=sharing`** at the end of the link\n",
        "  - Replaced **`/file/d/`** with **`/uc?export=view&id=`**\n",
        "\n",
        "```markdown\n",
        "[put your revised link and remove this line]\n",
        "```\n",
        "\n",
        "- The map can be inserted in Google Colab following the syntax [from here](https://www.markdownguide.org/cheat-sheet/)\n",
        "\n",
        "```markdown\n",
        "Insert the map here using syntax:\n",
        "![lower st croix watershed](revised link)\n",
        "```\n",
        "\n",
        "![lower st croix watershed](revised link)"
      ],
      "metadata": {
        "id": "wkJqun7umRRk"
      }
    },
    {
      "cell_type": "markdown",
      "source": [
        "## **Raster data for group project**\n",
        "\n",
        "- **Provide the name and the link to the raster dataset you identified for your group project**\n",
        "  - You can begin with the following portals\n",
        "    - [ArcGIS Living Atlas of the World](https://livingatlas.arcgis.com/en/home/)\n",
        "    - [NASAS WorldView](https://worldview.earthdata.nasa.gov/)\n",
        "      - Click **Add Layers** to identify datasets for different subjects (including **human dimensions**)\n",
        "    - [NASA Socioeconomic Data and Applications Center (SEDAC)](https://sedac.ciesin.columbia.edu/)\n",
        "\n",
        "| Name of Dataset | Dataset Producer | Link to Dataset | New Column |\n",
        "| ---------------- | ---------------- | ---------------- |---------------- |\n",
        "| [Put your answer] | [Put your answer] | [Put your answer] | [New Info]|"
      ],
      "metadata": {
        "id": "d8B4v6BIJYRw"
      }
    },
    {
      "cell_type": "markdown",
      "source": [
        "- **Provide the specifics of the raster dataset you identified**\n",
        "\n",
        "| Spatial Resolution | Temporal Resolution* | Spatial Extent |\n",
        "| ---------------- | ---------------- | ---------------- |\n",
        "| [Put your answer] | [Put your answer] | [Put your answer] |\n",
        "\n",
        "*Temporal resolution of data: Wheather the data is acquired on a daily, monthly, yearly, or multi-year basis*"
      ],
      "metadata": {
        "id": "xuG1CFbBlawa"
      }
    },
    {
      "cell_type": "markdown",
      "source": [
        "- **Why is the dataset you selected an appropriate choice for your current project?** Explain from the perspectives of the content of the data, spatial resolution, temporal resolution (daily, monthly, yearly acquisition), and/or spatial extent covered.\n",
        "\n",
        "*Example: I selected demographics from the 2010 and 2020 U.S. Census data to analyze the population change pattern of Ohio at a census tract level because both datasets include the count of population needed to answer the research question of this project. Plus, these metrics are collected at census-tract level to satisfy the spatial resolution needed for this project. Furthermore, the dataset is a decennial product, allowing the comparison of population across a decade.*"
      ],
      "metadata": {
        "id": "SKZskx02mMvl"
      }
    },
    {
      "cell_type": "markdown",
      "source": [
        "## **Save and share this notebook**\n",
        "\n",
        "- Make this notebook viewable by anyone with the link and submit the link to Canvas as Week 8 assignment"
      ],
      "metadata": {
        "id": "kkgukjDcXsqC"
      }
    },
    {
      "cell_type": "markdown",
      "source": [
        "## **Reference**\n",
        "\n",
        "- [Markdown cheat sheet](https://www.markdownguide.org/cheat-sheet/)\n",
        "- [Insert other references]"
      ],
      "metadata": {
        "id": "fvMbEX89YLeY"
      }
    }
  ]
}