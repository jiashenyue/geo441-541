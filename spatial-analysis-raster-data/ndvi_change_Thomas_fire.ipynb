{
  "nbformat": 4,
  "nbformat_minor": 0,
  "metadata": {
    "colab": {
      "provenance": []
    },
    "kernelspec": {
      "name": "python3",
      "display_name": "Python 3"
    },
    "language_info": {
      "name": "python"
    }
  },
  "cells": [
    {
      "cell_type": "markdown",
      "source": [
        "# **Inspect Landsat-8 image before and after Thomas Fire (Dec. 2017 - Jan. 2018, California)**"
      ],
      "metadata": {
        "id": "C0ymCPR5aSHN"
      }
    },
    {
      "cell_type": "markdown",
      "source": [
        "🚀 Created by [Your Name]\n",
        "\n",
        "10/14/2024"
      ],
      "metadata": {
        "id": "Pt_OREXFPvkr"
      }
    },
    {
      "cell_type": "markdown",
      "source": [
        "## **Get ready to start**\n",
        "\n",
        "- Click **`File/Save a copy in Drive`** to save a copy of this notebook to your own Google Drive"
      ],
      "metadata": {
        "id": "mxoixSCslLRe"
      }
    },
    {
      "cell_type": "markdown",
      "source": [
        "## **Thomas Fire in December, 2017**\n",
        "\n",
        "- The Thomas Fire was a massive wildfire that affected Ventura and Santa Barbara Counties, and one of multiple wildfires that ignited in southern California in December 2017.\n",
        "- It burned approximately 281,893 acres (440 sq mi; 114,078 ha) before being fully contained on January 12, 2018, making it the largest wildfire in modern California history at the time.\n",
        "- Read more about Thomas fire from [this storymap](https://storymaps.arcgis.com/stories/d943c491f711403dab28961dbcdd6ce8)\n",
        "\n",
        "---"
      ],
      "metadata": {
        "id": "CMQN_pgaHVLO"
      }
    },
    {
      "cell_type": "markdown",
      "source": [
        "## **Image for this practice**\n",
        "\n",
        "- [Landsat-8 surface reflectance products (level-2 products)](https://www.usgs.gov/landsat-missions/landsat-collection-2-level-2-science-products) obtained on\n",
        "  - 11/23/2017\n",
        "  - 1/28/2018\n",
        "---"
      ],
      "metadata": {
        "id": "6tKmlbnzny_I"
      }
    },
    {
      "cell_type": "markdown",
      "source": [
        "## **Compare images before and after Thomas fire**\n",
        "\n",
        "- Use a band combination of 6-5-3\n",
        "  - Red channel: Band 6 (SWIR)\n",
        "  - Green channel: Band 5 (NIR)\n",
        "  - Blue channel: Band 3 (Green)\n",
        "\n",
        "---"
      ],
      "metadata": {
        "id": "oe8EPr2lxKZa"
      }
    },
    {
      "cell_type": "markdown",
      "source": [
        "## **Calculate NDVI for both images**\n",
        "\n",
        "- Comparing NDVI is a more straightforward way to identify how much damage the fire caused on the natural landscape\n",
        "- NDVI is designed to highlight the \"red edge\" effects of drastic change in the reflectance between the red and near infrared bands\n",
        "\n",
        "  <div>\n",
        "  <img src=\"https://ltb.itc.utwente.nl/uploads/studyarea/491/Pics_2015_jpg/Fig2_13.jpg\" width= 500px />\n",
        "  </div>\n",
        "\n",
        "\n",
        "\n",
        "- NDVI can be calculated using the following equation with **Raster Calculator**\n",
        "\n",
        "  $\n",
        "  NDVI = \\frac{(NIR - Red)}{(NIR + Red)}\n",
        "  $\n",
        "\n",
        "- In Landsat-8, we will use the following bands to calculate NDVI\n",
        "\n",
        "  $\n",
        "  NDVI = \\frac{(Band\\,5 - Band\\,4)}{(Band\\,5 + Band\\,4)}\n",
        "  $\n"
      ],
      "metadata": {
        "id": "v23rJQ5iPO00"
      }
    },
    {
      "cell_type": "markdown",
      "source": [
        "## **Compute the change in NDVI**\n",
        "\n",
        "- We can overlay the two NDVI images and calculate the difference between them using **Raster Calculator**"
      ],
      "metadata": {
        "id": "CNRmT8G6QxPw"
      }
    },
    {
      "cell_type": "markdown",
      "source": [
        "## **Compute an aggregation value of change in NDVI for all blocks in Santa Barbara County and Ventura County, CA**\n",
        "\n",
        "- We can use zonal statistics to calculate several basic statistic values to represent an overal situation of change in NDVI for all blocks in Santa Barbara County and Ventura County, where the damange caused by Thomas fire was the largest\n",
        "---"
      ],
      "metadata": {
        "id": "Y5cV2iHe-sPA"
      }
    },
    {
      "cell_type": "markdown",
      "source": [
        "## **Use the ArcGIS Pro `.aprx` file provided to create a map**\n",
        "\n",
        "- Download the `aprx` provided in Week 9 module and reset the **sources of data** to restore the images used for mapping\n",
        "- You should be able to get an image like the one below\n",
        "\n",
        "  <div>\n",
        "  <img src=\"https://drive.google.com/uc?export=view&id=1VTzBFukGHc3DuRme5meukgj92G5QahOp\" width= 800px />\n",
        "  </div>"
      ],
      "metadata": {
        "id": "W4cZOL_siq0e"
      }
    },
    {
      "cell_type": "markdown",
      "source": [
        "## **Save notebook to GitHub**\n",
        "\n",
        "- Save this notebook to GitHub repository you made last week\n",
        "- Create a new folder by copying the following line to your repository path\n",
        "  - `raster-data-analysis/ndvi-change-thomas-fire.ipynb`"
      ],
      "metadata": {
        "id": "bvZyUOmeRCUa"
      }
    }
  ]
}