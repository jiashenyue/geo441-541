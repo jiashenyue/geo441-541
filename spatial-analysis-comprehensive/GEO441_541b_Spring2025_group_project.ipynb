{
  "nbformat": 4,
  "nbformat_minor": 0,
  "metadata": {
    "colab": {
      "provenance": [],
      "toc_visible": true
    },
    "kernelspec": {
      "name": "python3",
      "display_name": "Python 3"
    },
    "language_info": {
      "name": "python"
    }
  },
  "cells": [
    {
      "cell_type": "markdown",
      "source": [
        "#**GEO 441/541B Group Project Topics Pool SPRING 2025**\n",
        "\n",
        "by Shenyue Jia\n",
        "\n",
        "---"
      ],
      "metadata": {
        "id": "WVohRDUUVRnI"
      }
    },
    {
      "cell_type": "markdown",
      "source": [
        "##**Topic 1: What does the trend say? The population change from 2010 to 2020 in Ohio**\n",
        "\n",
        "- A GEO-GAC **Ohio Data Initiative** Project\n",
        "  - Geospatial Analysis Center (GAC) Ohio Data Initiative aims to create mappable data products from U.S. Census data tailored to serve the need of analyzing Ohio-related matters\n",
        "  - This product will save time and effort for users who are not farmiliar with the U.S. Census data or need a map-ready dataset of Ohio"
      ],
      "metadata": {
        "id": "OLlGduV1VeoL"
      }
    },
    {
      "cell_type": "markdown",
      "source": [
        "###**Overview**\n",
        "\n",
        "This project examines how Ohio's population has changed over the past decade using U.S. Census data. Students will analyze how socio-economic forces have influenced population shifts across the state, with attention to trends such as industrial decline in towns like Youngstown and growth near Columbus driven by education, consulting, and health sectors."
      ],
      "metadata": {
        "id": "nucAyg5syAFj"
      }
    },
    {
      "cell_type": "markdown",
      "source": [
        "###**Goals**\n",
        "\n",
        "- Compare population data from the 2010 and 2020 censuses at multiple spatial scales.\n",
        "- Quantify changes using appropriate metrics (e.g., percent change).\n",
        "- Visualize results using maps (e.g., divergent color ramps).\n",
        "- [Optional] Explore potential drivers of population changes."
      ],
      "metadata": {
        "id": "pDh87v6br4NQ"
      }
    },
    {
      "cell_type": "markdown",
      "source": [
        "###**Core Datasets**\n",
        "\n",
        "- [U.S. Census population data](https://data.census.gov/profile/Ohio?g=040XX00US39)\n",
        "\n"
      ],
      "metadata": {
        "id": "vuF2P4U_1fFT"
      }
    },
    {
      "cell_type": "markdown",
      "source": [
        "###**Enhancement Task of Spring 2025**\n",
        "\n",
        "- Review the quality of the dataset, identify any inconsistencies or missing data, and correct detected errors before analysis.\n",
        "- Revise previous visualizations for clarity and depth, and integrate additional socio-economic indicators like employment data or education levels to explain the observed trends."
      ],
      "metadata": {
        "id": "BXeq33K84ddu"
      }
    },
    {
      "cell_type": "markdown",
      "source": [
        "###**Project Outcome of Fall 2024**\n",
        "\n",
        "- [Presentation storymap](https://arcg.is/0j0LCe)\n",
        "- [Project repository](https://github.com/hollanja/Ohio-Demography-2010-2020?tab=readme-ov-file)\n",
        "\n",
        "\n",
        "\n",
        "---"
      ],
      "metadata": {
        "id": "IUmQYVb33-s-"
      }
    },
    {
      "cell_type": "markdown",
      "source": [
        "###**Visualization Examples**\n",
        "\n",
        "Below are some visualization examples of core datasets mentioned above.\n",
        "\n",
        "- [U.S. Census populated places (2020 census)](https://www.arcgis.com/home/item.html?id=d8e6e822e6b44d80b4d3b5fe7538576d)\n",
        "\n",
        "![img](https://drive.google.com/uc?export=view&id=1qjrBV7m3D_eHjgB_v7on77NeNiVHchjB)\n",
        "\n",
        "---"
      ],
      "metadata": {
        "id": "MJSNivRSvLoE"
      }
    },
    {
      "cell_type": "markdown",
      "source": [
        "##**Topic 2: The rise and (potential) fall of working from home**"
      ],
      "metadata": {
        "id": "11DQWZCYFJAp"
      }
    },
    {
      "cell_type": "markdown",
      "source": [
        "###**Overview**\n",
        "\n",
        "This project focuses on the evolution of remote work since the pandemic, analyzing commuting data across California. The aim is to understand how remote work reshaped commuting patterns and whether the return-to-office trend is reversing these changes."
      ],
      "metadata": {
        "id": "nXAjJK2UGQA7"
      }
    },
    {
      "cell_type": "markdown",
      "source": [
        "###**Goals**\n",
        "\n",
        "- Identify the census metric that best captures changes in commuting patterns.\n",
        "- Compare trends from 2019–2021 and 2021–2022.\n",
        "- Visualize commuting pattern changes using spatial analysis.\n",
        "- Investigate socio-economic factors that may influence these changes."
      ],
      "metadata": {
        "id": "UPCt6Ktvr-WZ"
      }
    },
    {
      "cell_type": "markdown",
      "source": [
        "###**Core Datasets**\n",
        "\n",
        "- [U.S. Census Commuting Data](https://www.census.gov/topics/employment/commuting/data.html)"
      ],
      "metadata": {
        "id": "qAp1JIhxihLb"
      }
    },
    {
      "cell_type": "markdown",
      "source": [
        "###**Enhancement Task of Spring 2025**\n",
        "\n",
        "- Review the quality of the dataset, identify any inconsistencies or missing data, and correct detected errors before analysis.\n",
        "- Incorporate external factors such as local economic data or policies influencing commuting.\n",
        "- Improve map visuals and add interactivity where feasible."
      ],
      "metadata": {
        "id": "TsWTUgMQiyWp"
      }
    },
    {
      "cell_type": "markdown",
      "source": [
        "###**Project Outcome of Fall 2024**\n",
        "\n",
        "- [Presentation storymap](https://arcg.is/1LTKGa1)\n",
        "- [Project repository](https://github.com/JBartnett/Group-Project/tree/main)"
      ],
      "metadata": {
        "id": "ZE9smi_GsVK3"
      }
    },
    {
      "cell_type": "markdown",
      "source": [
        "###**Visualization Example**\n",
        "\n",
        "- The remote work revolution is already reshaping America from [*Washington Post*](https://www.washingtonpost.com/business/2022/08/19/remote-work-hybrid-employment-revolution/)\n",
        "\n",
        "<img src=\"https://www.washingtonpost.com/wp-apps/imrs.php?src=https://arc-anglerfish-washpost-prod-washpost.s3.amazonaws.com/public/H5ZDTKQC5NABRLDFFLPY5J42LQ.png&w=1440&impolicy=high_res\" alt=\"Latitude lines\" width=\"60%\">\n",
        "\n",
        "- A potential driver of such trend\n",
        "\n",
        "<img src=\"https://www.washingtonpost.com/wp-apps/imrs.php?src=https://arc-anglerfish-washpost-prod-washpost.s3.amazonaws.com/public/QP2G4PE62RGQ3DZNBOQARNGWVU.png&w=1440&impolicy=high_res\" alt=\"Latitude lines\" width=\"60%\">\n",
        "\n",
        "---"
      ],
      "metadata": {
        "id": "k79IEm5qj9fC"
      }
    },
    {
      "cell_type": "markdown",
      "source": [
        "##**Topic 3: Home ownership trend in Ohio from 2010 to 2020**\n",
        "\n",
        "- A GEO-GAC **Ohio Data Initiative** Project\n",
        "  - Geospatial Analysis Center (GAC) Ohio Data Initiative aims to create mappable data products from U.S. Census data tailored to serve the need of analyzing Ohio-related matters\n",
        "  - This product will save time and effort for users who are not farmiliar with the U.S. Census data or need a map-ready dataset of Ohio"
      ],
      "metadata": {
        "id": "wpFqRGxklrXU"
      }
    },
    {
      "cell_type": "markdown",
      "source": [
        "###**Overview**\n",
        "\n",
        "Students will investigate shifts in homeownership trends in Ohio, particularly the rise of renting in certain areas. This study will explore potential factors influencing these changes, such as economic shifts, urban renewal, and generational lifestyle changes."
      ],
      "metadata": {
        "id": "w_p-4qhaBHBX"
      }
    },
    {
      "cell_type": "markdown",
      "source": [
        "###**Goals**\n",
        "\n",
        "- Identify census tracts with the highest renter-to-owner ratios in 2010 and 2020.\n",
        "- Analyze overlaps in trends across the decade.\n",
        "- Investigate age and income as potential drivers of these trends.\n",
        "- Create visualizations showcasing ownership and rental patterns."
      ],
      "metadata": {
        "id": "n-yH4reoBhM5"
      }
    },
    {
      "cell_type": "markdown",
      "source": [
        "### **Core Datasets**\n",
        "\n",
        "- [U.S. Census Data of Ownership, Home Value, and Rent](https://www.census.gov/acs/www/about/why-we-ask-each-question/ownership/)"
      ],
      "metadata": {
        "id": "FSnuIkcdBtih"
      }
    },
    {
      "cell_type": "markdown",
      "source": [
        "###**Enhancement Task of Spring 2025**\n",
        "\n",
        "- Conduct a thorough dataset quality review to detect inaccuracies and ensure consistency before conducting analysis.\n",
        "- Incorporate additional socio-economic layers, such as education or employment data.\n",
        "- Refine maps to emphasize demographic influences on ownership trends."
      ],
      "metadata": {
        "id": "ec1beki3B5Zj"
      }
    },
    {
      "cell_type": "markdown",
      "source": [
        "###**Project Outcome of Fall 2024**\n",
        "\n",
        "- [Presentation storymap](https://storymaps.arcgis.com/stories/09f2db7b25db4c22adb9658aea1d3e67)\n",
        "- [Project repository](https://github.com/F-Dalton34/Ohio_Home_Ownership/tree/main)"
      ],
      "metadata": {
        "id": "OuRWKrrMtES0"
      }
    },
    {
      "cell_type": "markdown",
      "source": [
        "### **Visualization Example**\n",
        "\n",
        "<img src=\"https://www.census.gov/content/dam/Census/library/visualizations/2021/comm/changing-homeownership-rates.jpg\" alt=\"Latitude lines\" width=\"70%\">\n",
        "\n",
        "---"
      ],
      "metadata": {
        "id": "MJM9F8GpEJFC"
      }
    },
    {
      "cell_type": "markdown",
      "source": [
        "## **Topic 4: Ten years after Obamacare: Which parts of Ohio are better covered than 10 years ago?**\n",
        "\n",
        "- A GEO-GAC **Ohio Data Initiative** Project\n",
        "  - Geospatial Analysis Center (GAC) Ohio Data Initiative aims to create mappable data products from U.S. Census data tailored to serve the need of analyzing Ohio-related matters\n",
        "  - This product will save time and effort for users who are not farmiliar with the U.S. Census data or need a map-ready dataset of Ohio"
      ],
      "metadata": {
        "id": "BrvLlehWEMZ7"
      }
    },
    {
      "cell_type": "markdown",
      "source": [
        "###**Overview**\n",
        "\n",
        "This project examines the effects of the Affordable Care Act (ACA) on health insurance coverage across Ohio. Students will analyze data from 2010 and 2020 to assess improvements and ongoing disparities in coverage across various regions."
      ],
      "metadata": {
        "id": "xdDWVcnaFDTj"
      }
    },
    {
      "cell_type": "markdown",
      "source": [
        "###**Goals**\n",
        "\n",
        "- Determine the most effective metric for assessing health insurance coverage spatially.\n",
        "- Identify census tracts with significant changes in coverage.\n",
        "- Investigate whether better-covered areas are socio-economically advantaged.\n",
        "- Visualize spatial trends in insurance coverage using maps."
      ],
      "metadata": {
        "id": "TKedNg5iQJjL"
      }
    },
    {
      "cell_type": "markdown",
      "source": [
        "### **Core Datasets**\n",
        "\n",
        "- [U.S. Census Data for Health Insurance Coverage](https://www.census.gov/topics/health/health-insurance.html)"
      ],
      "metadata": {
        "id": "PrGQwqkIP18N"
      }
    },
    {
      "cell_type": "markdown",
      "source": [
        "###**Enhancement Task of Spring 2025**\n",
        "\n",
        "- Verify data accuracy, address missing values, and resolve any errors to ensure reliable results.\n",
        "- Integrate additional socio-economic data (e.g., income, education) to explain disparities in coverage.\n",
        "- Enhance visual clarity to emphasize areas with significant changes."
      ],
      "metadata": {
        "id": "FZtpWKRBtta3"
      }
    },
    {
      "cell_type": "markdown",
      "source": [
        "###**Project Outcome of Fall 2024**\n",
        "\n",
        "- [Presentation storymap](https://storymaps.arcgis.com/stories/f5d8e8ecaf5645ae808aa6e6768090ad)\n",
        "- [Project repository](https://github.com/FactoryReset51/GEO441_Project)"
      ],
      "metadata": {
        "id": "mMOibmpot0Ii"
      }
    },
    {
      "cell_type": "markdown",
      "source": [
        "### **Visualization Example**\n",
        "\n",
        "- [U.S. Census data of people without health insurance coverage](https://storymaps.arcgis.com/stories/aae195ca5edd48739ce78eda985b52bd)\n",
        "\n",
        "![img](https://drive.google.com/uc?export=view&id=1yFoh9qN9yY2ZaLAW1IMDHtIs5u2sC94N)\n",
        "\n",
        "---"
      ],
      "metadata": {
        "id": "-Mob9capTMYI"
      }
    },
    {
      "cell_type": "markdown",
      "source": [
        "## **Topic 5: College towns in Ohio: Defining their boundaries and discovering their change during the past decade**\n",
        "\n",
        "- A GEO-GAC **Ohio Data Initiative** Project\n",
        "  - Geospatial Analysis Center (GAC) Ohio Data Initiative aims to create mappable data products from U.S. Census data tailored to serve the need of analyzing Ohio-related matters\n",
        "  - This product will save time and effort for users who are not farmiliar with the U.S. Census data or need a map-ready dataset of Ohio"
      ],
      "metadata": {
        "id": "c8je-gmXTP91"
      }
    },
    {
      "cell_type": "markdown",
      "source": [
        "### **Synopsis**\n",
        "\n",
        "This project focuses on defining the boundaries of Ohio's college towns using census data and examining demographic changes over the past decade. Students will use metrics like age distribution, college enrollment rates, and household size to identify these boundaries."
      ],
      "metadata": {
        "id": "1H8PMeqPXjYa"
      }
    },
    {
      "cell_type": "markdown",
      "source": [
        "###**Goals**\n",
        "\n",
        "- Define the boundaries of college towns using key census data.\n",
        "- Analyze population changes within these areas from 2010 to 2020.\n",
        "- Create maps to visualize the spatial patterns and population trends of college towns.\n",
        "- Explain how your team determined the town boundaries."
      ],
      "metadata": {
        "id": "lvDWLWPguXGB"
      }
    },
    {
      "cell_type": "markdown",
      "source": [
        "### **Core Datasets**\n",
        "\n",
        "- [U.S. Census Data of Population Age and Sex](https://www.census.gov/library/visualizations/interactive/exploring-age-groups-in-the-2020-census.html)\n",
        "- [U.S. Census Data of School Enrolmment](https://www.census.gov/library/publications/2023/acs/acs-55.html)\n",
        "- [U.S. Census Data of Household Income](https://www.census.gov/topics/income-poverty/income/data/tables.html)\n",
        "- [Ohio's higher education campuses](https://highered.ohio.gov/about/ohios-campuses)"
      ],
      "metadata": {
        "id": "18_wUBkIZ6fo"
      }
    },
    {
      "cell_type": "markdown",
      "source": [
        "###**Enhancement Task of Spring 2025**\n",
        "\n",
        "- Assess the dataset for missing or inconsistent values, and correct any identified errors before analysis.\n",
        "- Enhance town boundary definitions using additional variables like education-related employment.\n",
        "- Refine maps by integrating campus-specific data for greater accuracy."
      ],
      "metadata": {
        "id": "sRut-06abzwo"
      }
    },
    {
      "cell_type": "markdown",
      "source": [
        "###**Project Outcome of Fall 2024**\n",
        "\n",
        "- [Presentation storymap](https://storymaps.arcgis.com/stories/2fbdb1dd7fc24b749aafe3f527748ce2)\n",
        "- [Project repository](https://github.com/jbirtcher/gis-project-portfolio-geo441-541b/blob/main/final-project/Final_Project_Deliverable.ipynb)"
      ],
      "metadata": {
        "id": "UjEQ4PryupNb"
      }
    },
    {
      "cell_type": "markdown",
      "source": [
        "### **Visualization Examples**\n",
        "\n",
        "- [Exploring Age Groups in the 2020 Census](https://www.census.gov/library/visualizations/interactive/exploring-age-groups-in-the-2020-census.html)\n",
        "\n",
        "![img](https://drive.google.com/uc?export=view&id=18XTTY460LGPo_SkuLlzL1VHFOEPwAOYP)\n",
        "\n",
        "\n",
        "- [U.S. Census percentage of people enrolled in college (tract level)](https://www.arcgis.com/home/item.html?id=3b15603a72e74c20a66b724952c3fbac)\n",
        "\n",
        "![img](https://drive.google.com/uc?export=view&id=1QdXdUcpRvPNFEXUvGRqr1a1cDnR-m9_f)\n",
        "\n",
        "- [IDHE's Campus Boundaries Project](https://idhe.tufts.edu/resources/idhes-campus-boundaries-project)\n",
        "\n",
        "---"
      ],
      "metadata": {
        "id": "1RdmY-zibQvi"
      }
    }
  ]
}