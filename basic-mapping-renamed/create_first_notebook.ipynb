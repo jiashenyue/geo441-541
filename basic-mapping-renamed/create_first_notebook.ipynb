{
  "nbformat": 4,
  "nbformat_minor": 0,
  "metadata": {
    "colab": {
      "provenance": [],
      "include_colab_link": true
    },
    "kernelspec": {
      "name": "python3",
      "display_name": "Python 3"
    },
    "language_info": {
      "name": "python"
    }
  },
  "cells": [
    {
      "cell_type": "markdown",
      "metadata": {
        "id": "view-in-github",
        "colab_type": "text"
      },
      "source": [
        "<a href=\"https://colab.research.google.com/github/jiashenyue/geo441-541/blob/main/basic-mapping/create_first_notebook.ipynb\" target=\"_parent\"><img src=\"https://colab.research.google.com/assets/colab-badge.svg\" alt=\"Open In Colab\"/></a>"
      ]
    },
    {
      "cell_type": "markdown",
      "source": [
        "## **Beginner's Guide to Creating a Notebook Using Markdown in Google Colab**\n",
        "\n",
        "**Google Colab** is a free cloud-based platform that allows you to write and execute Python code in a Jupyter notebook environment. One of the useful features of Colab is the ability to use Markdown to format your text, making your notebook more readable and organized. This guide will walk you through the basics of creating a notebook and using Markdown in Google Colab.\n",
        "\n",
        "---"
      ],
      "metadata": {
        "id": "VCUqSRXAPzwi"
      }
    },
    {
      "cell_type": "markdown",
      "source": [
        "### **Step 1: Creating a New Notebook**\n",
        "\n",
        "1. **Open Google Colab:**\n",
        "   - Visit [Google Colab](https://colab.research.google.com) in your web browser.\n",
        "   - You might need to sign in with your Google account if you haven’t already.\n",
        "\n",
        "2. **Create a New Notebook:**\n",
        "   - Click on the **\"File\"** menu in the top left corner.\n",
        "   - Select **\"New notebook\"** from the dropdown menu.\n",
        "\n",
        "---"
      ],
      "metadata": {
        "id": "pK1xVk8RP4oi"
      }
    },
    {
      "cell_type": "markdown",
      "source": [
        "### **Step 2: Understanding the Interface**\n",
        "\n",
        "Once you create a new notebook, you'll see a page divided into cells. Each cell can contain either code or text. The default cell type is for Python code, but you can easily switch it to a Markdown cell.\n",
        "\n",
        "- **Code Cells:** Used for writing and executing Python code.\n",
        "- **Text Cells (Markdown Cells):** Used for writing formatted text, such as headings, lists, links, and more, using Markdown.\n",
        "\n",
        "---"
      ],
      "metadata": {
        "id": "YackmaNtQJvE"
      }
    },
    {
      "cell_type": "markdown",
      "source": [
        "### **Step 3: Adding a Markdown Cell**\n",
        "\n",
        "To add a Markdown cell:\n",
        "- Click on the **\"+\"** button at the top of the notebook to add a new cell.\n",
        "- Click on the **\"▼\"** dropdown button next to the new cell's code label and select **\"Text\"**. This converts the cell into a Markdown cell.\n",
        "\n",
        "---"
      ],
      "metadata": {
        "id": "xndYhdBPQLoL"
      }
    },
    {
      "cell_type": "markdown",
      "source": [
        "### **Step 4: Writing Markdown in Colab**\n",
        "\n",
        "Markdown is a simple markup language that allows you to format text using plain text syntax. Here are some common Markdown features you can use in Google Colab:\n",
        "\n",
        "1. **Headings:**\n",
        "   - Use `#` to `######` for creating headings, with the number of `#` indicating the heading level.\n",
        "\n",
        "   ```markdown\n",
        "   # Heading 1\n",
        "   ## Heading 2\n",
        "   ### Heading 3\n",
        "   #### Heading 4\n",
        "   ```\n",
        "\n",
        "2. **Bold and Italic:**\n",
        "   - Use `**bold**` or `__bold__` for bold text.\n",
        "   - Use `*italic*` or `_italic_` for italic text.\n",
        "\n",
        "   ```markdown\n",
        "   **This is bold text**\n",
        "   *This is italic text*\n",
        "   ```\n",
        "\n",
        "3. **Lists:**\n",
        "   - **Unordered lists:** Use `-`, `*`, or `+` for bullet points.\n",
        "   - **Ordered lists:** Use numbers followed by a period.\n",
        "\n",
        "   ```markdown\n",
        "   - Item 1\n",
        "    - Item 1.1\n",
        "   - Item 2\n",
        "   - Item 3\n",
        "\n",
        "   1. First item\n",
        "   2. Second item\n",
        "   3. Third item\n",
        "   ```\n",
        "\n",
        "4. **Links:**\n",
        "   - Use `[link text](URL)` to create a hyperlink.\n",
        "\n",
        "   ```markdown\n",
        "   [Google Colab](https://colab.research.google.com)\n",
        "   ```\n",
        "\n",
        "5. **Images:**\n",
        "   - Use `![alt text](image URL)` to insert an image.\n",
        "   \n",
        "   ```markdown\n",
        "   ![Google Logo](https://www.google.com/images/branding/googlelogo/1x/googlelogo_color_272x92dp.png)\n",
        "   ```\n",
        "\n",
        "   - After rendering, we will see this picture\n",
        "\n",
        "  ![Google Logo](https://www.google.com/images/branding/googlelogo/1x/googlelogo_color_272x92dp.png)\n",
        "\n",
        "\n",
        "6. **Code Blocks:**\n",
        "   - Use triple backticks (\\`\\`\\`) for code blocks.\n",
        "   - Use single backticks (\\`) for inline code.\n",
        "\n",
        "   ```markdown\n",
        "   ```python\n",
        "   print(\"Hello, World!\")\n",
        "   ```\n",
        "   Inline code: `print(\"Hello, World!\")`\n",
        "   ```\n",
        "\n",
        "7. **Blockquotes:**\n",
        "   - Use `>` to create a blockquote.\n",
        "   ```markdown\n",
        "   > This is a blockquote.\n",
        "   ```\n",
        "\n",
        "---"
      ],
      "metadata": {
        "id": "CRY3IwnNQT9-"
      }
    },
    {
      "cell_type": "markdown",
      "source": [
        "### **Step 5: Running Markdown Cells**\n",
        "\n",
        "After writing your Markdown, you can render it by clicking a different text cell. The Markdown cell will be automatically rendered.\n",
        "\n",
        "---"
      ],
      "metadata": {
        "id": "6cvhm238Qeb1"
      }
    },
    {
      "cell_type": "markdown",
      "source": [
        "### **Step 6: Saving Your Notebook**\n",
        "\n",
        "To save your work:\n",
        "- Click on **\"File\"** and then **\"Save\"** or **\"Save a copy in Drive\"**.\n",
        "- You can also download your notebook as a `.ipynb` file by selecting **\"Download .ipynb\"**.\n",
        "\n",
        "---"
      ],
      "metadata": {
        "id": "iCCPd2a4Q9GC"
      }
    },
    {
      "cell_type": "markdown",
      "source": [
        "### **Conclusion**\n",
        "\n",
        "Using Markdown in Google Colab is a great way to create well-organized, readable notebooks. Whether you're documenting your code, creating tutorials, or simply taking notes, Markdown provides the tools to make your text stand out. With these basics, you can start creating your own notebooks and use Markdown to enhance them!"
      ],
      "metadata": {
        "id": "kLZhvVOXRHx5"
      }
    },
    {
      "cell_type": "markdown",
      "source": [
        "## **Exercise 1: Completing the tasks using Markdown**\n",
        "\n",
        "- Create a new Notebook in your own Google Drive\n",
        "- Replicate the content of [this PDF](https://drive.google.com/file/d/1ksOIPnccQXdR7cv-qTyHYBkp95omw94C/view?usp=drive_link) file in your new Notebook with Markdown language"
      ],
      "metadata": {
        "id": "S62sxBIGSTWA"
      }
    },
    {
      "cell_type": "markdown",
      "source": [
        "## **Exercise 2: Create a link for picture file**\n",
        "\n",
        "- Use [this picture file](https://drive.google.com/file/d/14ZkDDN6esG_65Qgi7w5er2Np9appP5NZ/view?usp=sharing) for practice\n",
        "\n",
        "```markdown\n",
        "https://drive.google.com/file/d/14ZkDDN6esG_65Qgi7w5er2Np9appP5NZ/view?usp=sharing\n",
        "```\n",
        "\n",
        "\n",
        "- Refer to directions in [Week 1 assignment template notebook](https://colab.research.google.com/drive/1l5CObrKlc4aNLY890wQ6_SvCUsQ65PkF#scrollTo=WVs4J1jQbESU)\n",
        "  - Remove `/view?usp=sharing`\n",
        "  - Replace `/file/d` with **`/uc?export=view&id=`**\n",
        "  - Use the following code to insert the picture\n",
        "\n",
        "```markdown\n",
        "![commute](https://drive.google.com/uc?export=view&id=14ZkDDN6esG_65Qgi7w5er2Np9appP5NZ)\n",
        "```"
      ],
      "metadata": {
        "id": "5T7HMlm-cYlR"
      }
    },
    {
      "cell_type": "markdown",
      "source": [],
      "metadata": {
        "id": "JXDkBt4c6EPc"
      }
    },
    {
      "cell_type": "markdown",
      "source": [
        "![commute](https://drive.google.com/uc?export=view&id=14ZkDDN6esG_65Qgi7w5er2Np9appP5NZ)"
      ],
      "metadata": {
        "id": "CyxPJvXE3vF1"
      }
    },
    {
      "cell_type": "markdown",
      "source": [
        "## **Reference**\n",
        "- [Markdown cheat sheet](https://www.markdownguide.org/cheat-sheet/)"
      ],
      "metadata": {
        "id": "s6odTBMkaDhE"
      }
    }
  ]
}